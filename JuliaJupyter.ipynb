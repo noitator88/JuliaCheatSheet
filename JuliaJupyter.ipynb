{
 "cells": [
  {
   "cell_type": "markdown",
   "id": "b7de916b-0a40-448c-a3b0-54d298bffe69",
   "metadata": {},
   "source": [
    "# Jupyter markdown\n",
    "\n",
    "[ref1]: https://medium.com/analytics-vidhya/the-ultimate-markdown-guide-for-jupyter-notebook-d5e5abf728fd \"The Ultimate Markdown Guide (for Jupyter Notebook)\""
   ]
  },
  {
   "cell_type": "markdown",
   "id": "bd83909f-d00d-492c-977a-439d77a9ae35",
   "metadata": {},
   "source": [
    "## 字体\n",
    "\n",
    "1. **粗体**  \n",
    "__This is bold text__\n",
    "\n",
    "2. *斜体*  \n",
    "_This is italic text_\n",
    "\n",
    "3. ~~scratch line~~\n",
    "\n",
    "4. 强制换行<br>\n",
    "第二行"
   ]
  },
  {
   "cell_type": "markdown",
   "id": "6727c04d-d2b6-4ad8-894a-2379a8275c47",
   "metadata": {},
   "source": [
    "## 排版\n",
    "\n",
    "1. 分段\n",
    "\n",
    "第一段\n",
    "\n",
    "第二段 用空白行分割段落\n",
    "\n",
    "2. 引用\n",
    "\n",
    "> This is a blockquote\n",
    "\n",
    ">  多行引用要<br>\n",
    ">         这样<br>\n",
    ">           也可以空一行\n",
    ">\n",
    ">               啊~\n",
    "\n",
    "> 多层引用，第一层\n",
    ">> 第二层\n",
    ">>> 第三层\n",
    ">>>\n",
    ">>> 第三层第二行\n",
    "\n",
    "3. 分割线\n",
    "---\n",
    "___\n",
    "***\n",
    "\n",
    "4. 列表\n",
    "    1. 编号一<br>\n",
    "        1. 多层编号1<br>\n",
    "           用4个空格生成多层列表\n",
    "    2. 编号二<br>\n",
    "       编号符号自动生成\n",
    "        * 无编号列表\n",
    "        * 也是用4个空格生成多层列表\n",
    "    3. 编号三<a id=\"list43\"></a> <br>\n"
   ]
  },
  {
   "cell_type": "markdown",
   "id": "fe5ed6fe-ff96-487e-8d2e-e161a9a4930d",
   "metadata": {},
   "source": [
    "## 图片\n",
    "\n",
    "1. 最简单图片<br>\n",
    "    ![](https://www.python.org/static/community_logos/python-logo-master-v3-TM.png)\n",
    "\n",
    "2. 图片带注释文字，悬停查看<br>\n",
    "    ![](https://www.python.org/static/community_logos/python-logo-master-v3-TM.png \"Python Logo\")\n",
    "    \n",
    "3. 或者用引用的方式显示图片<br>\n",
    "    ![][some-id]\n",
    "\n",
    "[some-id]: https://www.python.org/static/community_logos/python-logo-master-v3-TM.png \"Python Logo\""
   ]
  },
  {
   "cell_type": "markdown",
   "id": "1dfe4e7e-5f12-401e-aa75-f88b69730e72",
   "metadata": {},
   "source": [
    "## 链接\n",
    "\n",
    "1. url链接<br>\n",
    "    * https://en.wikipedia.org<br>\n",
    "    * [wikipedia英文版](https://en.wikipedia.org)\n",
    "    * 引用方式显示url<br>\n",
    "      这也是[wikipedia英文版][wikipedia_id]\n",
    "\n",
    "2. 页内链接与跳转\n",
    "   * 跳转到[Plots绘图](#plot_id)\n",
    "   * 跳转到[QuadGK](#QuadGK)\n",
    "   * 跳转到[编号三](#list43)\n",
    "   \n",
    "[wikipedia_id]: https://en.wikipedia.org \"Wikipedia\""
   ]
  },
  {
   "cell_type": "markdown",
   "id": "36584d8b-830a-41bd-bacd-2775ceaed0be",
   "metadata": {},
   "source": [
    "## 任务列表\n",
    "\n",
    "- [ ] 任务一\n",
    "- [x] 任务二，标记完成"
   ]
  },
  {
   "cell_type": "markdown",
   "id": "0013d1c4-2fe2-4547-8a58-796ece67a0b2",
   "metadata": {},
   "source": [
    "## 代码\n",
    "\n",
    "1. **javascript**\n",
    "```javascript\n",
    "var s = \"JavaScript syntax highlighting\";\n",
    "alert(s);\n",
    "```\n",
    "\n",
    "2. **python**\n",
    "```python\n",
    "s = \"Python syntax highlighting\"\n",
    "print s\n",
    "```\n",
    "\n",
    "3. **julia**\n",
    "```julia\n",
    "for i in 1:3\n",
    "    print(i)\n",
    "end\n",
    "```"
   ]
  },
  {
   "cell_type": "markdown",
   "id": "dc611d7b-cd0f-4df1-b686-af284d22cf92",
   "metadata": {},
   "source": [
    "## 表格\n",
    "\n",
    "|Header|左对齐|右对齐|中心对齐|\n",
    "|---|:---|---:|:---:|\n",
    "|A     |Bbb     |Ccc     | Ddd |\n",
    "|X     |Yyy     |Zzz     | Uuu |"
   ]
  },
  {
   "cell_type": "markdown",
   "id": "5f8b1f77-e29f-4a89-81b5-d347b3f39a4e",
   "metadata": {},
   "source": [
    "## HTML语法\n",
    "\n",
    "1. 颜色<br>\n",
    "    <span style=\"color:red\">红</span><br>\n",
    "    <span style=\"color:blue\">蓝</span><br>\n",
    "    <span style=\"color:pink\">粉</span><br>\n",
    "    <span style=\"color:yellow\">黄(你看不见我)</span><br>\n",
    "    <span style=\"color:green\">绿</span><br>\n",
    "    <span style=\"color:#8A2BE2\">五彩斑斓的紫</span>\n",
    "\n",
    "    颜色列表详见[这个链接](https://www.w3schools.com/colors/colors_names.asp)\n",
    "\n",
    "2. 字体\n",
    "\n",
    "    <span style=\"font-family:Comic Sans MS\">Comic Sans MS</span>\n",
    "    \n",
    "3. boxes\n",
    "\n",
    "    <div class=\"alert alert-block alert-info\">\n",
    "    <b>Tip:</b> Use blue boxes (alert-info) for tips and notes.</div>\n",
    "\n",
    "    <div class=\"alert alert-block alert-warning\">\n",
    "    <b>Example:</b> Use yellow boxes for examples that are not inside code cells, or use for mathematical formulas if needed. Typically also used to display     warning messages.\n",
    "    </div>\n",
    "    \n",
    "    <div class=\"alert alert-block alert-success\">\n",
    "    <b>Success:</b> This alert box indicates a successful or positive action.\n",
    "    </div>\n",
    "    \n",
    "    <div class=\"alert alert-block alert-danger\">\n",
    "    <b>Danger:</b> This alert box indicates a dangerous or potentially negative action.\n",
    "    </div>\n",
    "    \n",
    "    <code style=\"background:yellow;color:black\">Useful for highlighting to grab the attention of the reader towards certain points.</code><br>\n",
    "    \n",
    "    \n",
    "    Do not forget to buy <mark>milk</mark> today.\n",
    "    \n",
    "4. html列表\n",
    "\n",
    "    <dl>\n",
    "    <dt>First Term</dt>\n",
    "    <dd>This is the definition of the first term.</dd>\n",
    "    <dt>Second Term</dt>\n",
    "    <dd>This is one definition of the second term. </dd>\n",
    "    <dd>This is another definition of the second term.</dd>\n",
    "    </dl>\n",
    "\n",
    "5. 导航\n",
    "    \n",
    "    <nav>\n",
    "      <a href=\"http://www.google.com\">Google</a> |\n",
    "      <a href=\"/tree\">jupyter lab notebook tree view</a> |\n",
    "    </nav>\n",
    "             \n",
    "    \n"
   ]
  },
  {
   "cell_type": "markdown",
   "id": "43c26093-1139-420f-ab9e-df1668080cb5",
   "metadata": {},
   "source": [
    "## math and utf-8 notation\n",
    "\n",
    "1. latex<br>\n",
    "    $\\sqrt{k}$\n",
    "2. utf8<br>\n",
    "    引用方式为 ： &#9658; &#x25BA;<br>\n",
    "    utf8符号参考[此页面](https://www.w3schools.com/charsets/ref_utf_geometric.asp)"
   ]
  },
  {
   "cell_type": "markdown",
   "id": "8831c817-4285-463c-a524-e775f2a887ed",
   "metadata": {},
   "source": [
    "# Plots绘图<a id=\"plot_id\"></a>"
   ]
  },
  {
   "cell_type": "code",
   "execution_count": 1,
   "id": "cb73b080-3101-4e61-aff3-d45b8f4705b5",
   "metadata": {},
   "outputs": [],
   "source": [
    "using Plots"
   ]
  },
  {
   "cell_type": "markdown",
   "id": "2ffba372-b9ac-4ca3-bda9-4135bdbba7af",
   "metadata": {},
   "source": [
    "Plots只是一个绘图前端，实际执行绘图的后端主要分三种：\n",
    "\n",
    "1. pyplot()\n",
    "   调用matplotlib绘图，好处是python里面的绘图技巧可以直接套用，缺点是需要额外设定python环境。\n",
    "   \n",
    "2. gr()\n",
    "   比较新的绘图后端，单纯绘图的话，不依赖外部库。\n",
    "   \n",
    "3. plotly() 或者 plotlyjs()\n",
    "   plotly绘图后端。平时使用最方便，因为可以在图像上直接做放大、缩小、读点坐标等操作，缺点是配置比较麻烦。"
   ]
  },
  {
   "cell_type": "markdown",
   "id": "b4aa880f-c076-40a8-bc94-4d67f29be3e9",
   "metadata": {},
   "source": [
    "## plotly后端"
   ]
  },
  {
   "cell_type": "code",
   "execution_count": 2,
   "id": "980103c1-a6a4-4466-ac1f-262d95774fab",
   "metadata": {},
   "outputs": [
    {
     "data": {
      "text/plain": [
       "Plots.PlotlyBackend()"
      ]
     },
     "execution_count": 2,
     "metadata": {},
     "output_type": "execute_result"
    }
   ],
   "source": [
    "theme(:wong2) # remember to install the PlotThemes package first: Pkg.add(\"PlotThemes\")\n",
    "font = Plots.font(\"Times\", 16) # 字体设定\n",
    "plotly(guidefont=font, xtickfont=font, ytickfont=font, legendfont=font, lw = 2, size=(800, 600))"
   ]
  },
  {
   "cell_type": "code",
   "execution_count": null,
   "id": "56e36c22-b767-46f1-abda-2a669a518f3f",
   "metadata": {},
   "outputs": [],
   "source": [
    "xt = collect(-5:0.1:5);\n",
    "vxt = fQP_vt.(xt);\n",
    "pxt = fQP_vp.(xt);"
   ]
  },
  {
   "cell_type": "code",
   "execution_count": null,
   "id": "76e22d9c-bb39-4549-809c-6f0d4515237c",
   "metadata": {},
   "outputs": [],
   "source": [
    "using Plots\n",
    "\n",
    "p = plot(xt, vxt, label=\"V\") # Plot a basic line\n",
    "plot!(p, xt, pxt, label=\"P\") # Plot a basic line"
   ]
  },
  {
   "cell_type": "markdown",
   "id": "dda9cf42-81f8-4d7c-9f57-e84d5904fdaf",
   "metadata": {},
   "source": [
    "# 微分"
   ]
  },
  {
   "cell_type": "markdown",
   "id": "7d545713-a465-4281-98cd-e67762f0a4a9",
   "metadata": {},
   "source": [
    "## 自动微分"
   ]
  },
  {
   "cell_type": "code",
   "execution_count": null,
   "id": "7591413b-ab64-435a-a9d7-8f9687826487",
   "metadata": {},
   "outputs": [],
   "source": [
    "using Zygote"
   ]
  },
  {
   "cell_type": "code",
   "execution_count": null,
   "id": "1e9d4efc-65cd-4f8a-9554-b4ef4acc834f",
   "metadata": {
    "tags": []
   },
   "outputs": [],
   "source": [
    "f1(x) = x^2"
   ]
  },
  {
   "cell_type": "code",
   "execution_count": null,
   "id": "55c7d969-40e5-4ba8-ba63-c297345483fb",
   "metadata": {},
   "outputs": [],
   "source": [
    "Zygote.gradient(f1, 1.0)"
   ]
  },
  {
   "cell_type": "markdown",
   "id": "216dba04-a0d3-403f-9ac5-8f454cfe7a93",
   "metadata": {},
   "source": [
    "# 积分"
   ]
  },
  {
   "cell_type": "markdown",
   "id": "41f4a6c0-1807-40b1-99b8-dcf185ee16ff",
   "metadata": {},
   "source": [
    "## QuadGK"
   ]
  },
  {
   "cell_type": "code",
   "execution_count": null,
   "id": "38f76636-21a9-4dfe-9ccd-2a282f860481",
   "metadata": {},
   "outputs": [],
   "source": [
    "using QuadGK\n",
    "\n",
    "function fQP_vt(t)\n",
    "    vt = exp(-2.0*t^2)\n",
    "end\n",
    "\n",
    "function fQP_vp(t)\n",
    "    vp, _ = quadgk(fQP_vt, -π, t, rtol=1e-6)\n",
    "    \n",
    "    return vp\n",
    "end"
   ]
  },
  {
   "cell_type": "markdown",
   "id": "a2dcf873-a7ac-457f-aa2f-ae68894006e6",
   "metadata": {},
   "source": [
    "## 离散数据积分\n",
    "\n",
    "**Ref**\n",
    "1. http://mth229.github.io/integration.html\n",
    "2. https://github.com/dextorious/NumericalIntegration.jl\n",
    "3. https://mmas.github.io/simpson-integration-julia\n",
    "4. https://pythonnumericalmethods.berkeley.edu/notebooks/chapter21.04-Simpsons-Rule.html"
   ]
  },
  {
   "cell_type": "markdown",
   "id": "2491f55d-59fd-4bd7-86d1-9ebd89f3fd0a",
   "metadata": {},
   "source": [
    "$$\n",
    "\\int^{\\pi}_0 3 \\sin(x)^3 dx = 4.0\n",
    "$$"
   ]
  },
  {
   "cell_type": "code",
   "execution_count": 29,
   "id": "7b2b16e0-9948-408f-9fd7-0602ddfc22cd",
   "metadata": {},
   "outputs": [],
   "source": [
    "# setup some data\n",
    "x = collect(0 : π/50 : π)\n",
    "y = 3.0*sin.(x).^3;"
   ]
  },
  {
   "cell_type": "code",
   "execution_count": 30,
   "id": "c0c449f6-ea26-48bb-8d2d-e1151001ccf6",
   "metadata": {},
   "outputs": [
    {
     "data": {
      "application/vnd.plotly.v1+json": {
       "data": [
        {
         "colorbar": {
          "title": {
           "text": ""
          }
         },
         "legendgroup": "y1",
         "line": {
          "color": "rgba(0, 0, 0, 1)",
          "dash": "solid",
          "shape": "linear",
          "width": 2
         },
         "mode": "lines",
         "name": "y1",
         "showlegend": true,
         "type": "scatter",
         "x": [
          0,
          0.06283185307179587,
          0.12566370614359174,
          0.1884955592153876,
          0.25132741228718347,
          0.3141592653589793,
          0.3769911184307752,
          0.4398229715025711,
          0.5026548245743669,
          0.5654866776461628,
          0.6283185307179586,
          0.6911503837897546,
          0.7539822368615504,
          0.8168140899333463,
          0.8796459430051422,
          0.942477796076938,
          1.0053096491487339,
          1.0681415022205298,
          1.1309733552923256,
          1.1938052083641215,
          1.2566370614359172,
          1.3194689145077132,
          1.3823007675795091,
          1.4451326206513049,
          1.5079644737231008,
          1.5707963267948968,
          1.6336281798666925,
          1.6964600329384885,
          1.7592918860102844,
          1.8221237390820801,
          1.884955592153876,
          1.9477874452256718,
          2.0106192982974678,
          2.0734511513692637,
          2.1362830044410597,
          2.199114857512855,
          2.261946710584651,
          2.324778563656447,
          2.387610416728243,
          2.450442269800039,
          2.5132741228718345,
          2.5761059759436304,
          2.6389378290154264,
          2.7017696820872223,
          2.7646015351590183,
          2.8274333882308142,
          2.8902652413026098,
          2.9530970943744057,
          3.0159289474462017,
          3.0787608005179976
         ],
         "xaxis": "x",
         "y": [
          0,
          0.0007426830016616233,
          0.0059063610061760845,
          0.019737861583632957,
          0.04614191667440677,
          0.08852549156242112,
          0.14965995419101077,
          0.23156603517494026,
          0.3354257204076558,
          0.4615242627168842,
          0.6092244304366994,
          0.7769739669016543,
          0.9623460562577079,
          1.1621114193866589,
          1.3723395406692394,
          1.5885254915624212,
          1.8057379072063058,
          2.018782919745679,
          2.2223782834221852,
          2.4113315619223705,
          2.58071610088345,
          2.7260385831054785,
          2.8433922582660616,
          2.929590442373764,
          2.9822755770101272,
          3,
          2.9822755770101272,
          2.929590442373763,
          2.8433922582660602,
          2.7260385831054785,
          2.58071610088345,
          2.4113315619223705,
          2.222378283422185,
          2.0187829197456777,
          1.805737907206305,
          1.5885254915624212,
          1.3723395406692394,
          1.1621114193866582,
          0.9623460562577069,
          0.7769739669016535,
          0.6092244304366997,
          0.4615242627168842,
          0.3354257204076556,
          0.2315660351749399,
          0.14965995419101052,
          0.08852549156242087,
          0.046141916674406785,
          0.019737861583632936,
          0.005906361006176061,
          0.0007426830016616148
         ],
         "yaxis": "y",
         "zmax": null,
         "zmin": null
        }
       ],
       "layout": {
        "annotations": [],
        "height": 600,
        "legend": {
         "bgcolor": "rgba(255, 255, 255, 1.000)",
         "bordercolor": "rgba(0, 0, 0, 1)",
         "borderwidth": 1,
         "font": {
          "color": "rgba(0, 0, 0, 1)",
          "family": "Times",
          "size": 22
         },
         "title": {
          "font": {
           "color": "rgba(0, 0, 0, 1)",
           "family": "sans-serif",
           "size": 15
          },
          "text": ""
         },
         "tracegroupgap": 0,
         "traceorder": "normal",
         "x": 1,
         "xanchor": "auto",
         "y": 1,
         "yanchor": "auto"
        },
        "margin": {
         "b": 20,
         "l": 0,
         "r": 0,
         "t": 20
        },
        "paper_bgcolor": "rgba(255, 255, 255, 1.000)",
        "plot_bgcolor": "rgba(255, 255, 255, 1.000)",
        "showlegend": true,
        "width": 800,
        "xaxis": {
         "anchor": "y",
         "domain": [
          0.027143482064741906,
          0.9950787401574803
         ],
         "gridcolor": "rgba(0, 0, 0, 0.1)",
         "gridwidth": 0.5,
         "linecolor": "rgba(0, 0, 0, 1)",
         "mirror": false,
         "range": [
          -0.09236282401553993,
          3.1711236245335375
         ],
         "showgrid": true,
         "showline": true,
         "showticklabels": true,
         "tickangle": 0,
         "tickcolor": "rgb(0, 0, 0)",
         "tickfont": {
          "color": "rgba(0, 0, 0, 1)",
          "family": "Times",
          "size": 22
         },
         "tickmode": "array",
         "ticks": "inside",
         "ticktext": [
          "0",
          "1",
          "2",
          "3"
         ],
         "tickvals": [
          0,
          1,
          2,
          3
         ],
         "title": {
          "font": {
           "color": "rgba(0, 0, 0, 1)",
           "family": "Times",
           "size": 22
          },
          "text": ""
         },
         "type": "linear",
         "visible": true,
         "zeroline": false,
         "zerolinecolor": "rgba(0, 0, 0, 1)"
        },
        "yaxis": {
         "anchor": "x",
         "domain": [
          0.04359871682706329,
          0.9934383202099738
         ],
         "gridcolor": "rgba(0, 0, 0, 0.1)",
         "gridwidth": 0.5,
         "linecolor": "rgba(0, 0, 0, 1)",
         "mirror": false,
         "range": [
          -0.09,
          3.09
         ],
         "showgrid": true,
         "showline": true,
         "showticklabels": true,
         "tickangle": 0,
         "tickcolor": "rgb(0, 0, 0)",
         "tickfont": {
          "color": "rgba(0, 0, 0, 1)",
          "family": "Times",
          "size": 22
         },
         "tickmode": "array",
         "ticks": "inside",
         "ticktext": [
          "0",
          "1",
          "2",
          "3"
         ],
         "tickvals": [
          0,
          1,
          2,
          3
         ],
         "title": {
          "font": {
           "color": "rgba(0, 0, 0, 1)",
           "family": "Times",
           "size": 22
          },
          "text": ""
         },
         "type": "linear",
         "visible": true,
         "zeroline": false,
         "zerolinecolor": "rgba(0, 0, 0, 1)"
        }
       }
      },
      "image/png": "[encoded data removed]",
      "text/html": [
       "    <div id=\"f6f793f1-13da-44a3-97b9-801660f65ed4\" style=\"width:800px;height:600px;\"></div>\n",
       "    <script>\n",
       "        requirejs.config({\n",
       "        paths: {\n",
       "            Plotly: 'https://cdn.plot.ly/plotly-1.57.1.min'\n",
       "        }\n",
       "    });\n",
       "    require(['Plotly'], function (Plotly) {\n",
       "\n",
       "        var PLOT = document.getElementById('f6f793f1-13da-44a3-97b9-801660f65ed4');\n",
       "    Plotly.plot(PLOT, [\n",
       "    {\n",
       "        \"xaxis\": \"x\",\n",
       "        \"colorbar\": {\n",
       "            \"title\": \"\"\n",
       "        },\n",
       "        \"yaxis\": \"y\",\n",
       "        \"x\": [\n",
       "            0.0,\n",
       "            0.06283185307179587,\n",
       "            0.12566370614359174,\n",
       "            0.1884955592153876,\n",
       "            0.25132741228718347,\n",
       "            0.3141592653589793,\n",
       "            0.3769911184307752,\n",
       "            0.4398229715025711,\n",
       "            0.5026548245743669,\n",
       "            0.5654866776461628,\n",
       "            0.6283185307179586,\n",
       "            0.6911503837897546,\n",
       "            0.7539822368615504,\n",
       "            0.8168140899333463,\n",
       "            0.8796459430051422,\n",
       "            0.942477796076938,\n",
       "            1.0053096491487339,\n",
       "            1.0681415022205298,\n",
       "            1.1309733552923256,\n",
       "            1.1938052083641215,\n",
       "            1.2566370614359172,\n",
       "            1.3194689145077132,\n",
       "            1.3823007675795091,\n",
       "            1.4451326206513049,\n",
       "            1.5079644737231008,\n",
       "            1.5707963267948968,\n",
       "            1.6336281798666925,\n",
       "            1.6964600329384885,\n",
       "            1.7592918860102844,\n",
       "            1.8221237390820801,\n",
       "            1.884955592153876,\n",
       "            1.9477874452256718,\n",
       "            2.0106192982974678,\n",
       "            2.0734511513692637,\n",
       "            2.1362830044410597,\n",
       "            2.199114857512855,\n",
       "            2.261946710584651,\n",
       "            2.324778563656447,\n",
       "            2.387610416728243,\n",
       "            2.450442269800039,\n",
       "            2.5132741228718345,\n",
       "            2.5761059759436304,\n",
       "            2.6389378290154264,\n",
       "            2.7017696820872223,\n",
       "            2.7646015351590183,\n",
       "            2.8274333882308142,\n",
       "            2.8902652413026098,\n",
       "            2.9530970943744057,\n",
       "            3.0159289474462017,\n",
       "            3.0787608005179976\n",
       "        ],\n",
       "        \"showlegend\": true,\n",
       "        \"mode\": \"lines\",\n",
       "        \"name\": \"y1\",\n",
       "        \"zmin\": null,\n",
       "        \"legendgroup\": \"y1\",\n",
       "        \"zmax\": null,\n",
       "        \"line\": {\n",
       "            \"color\": \"rgba(0, 0, 0, 1.000)\",\n",
       "            \"shape\": \"linear\",\n",
       "            \"dash\": \"solid\",\n",
       "            \"width\": 2\n",
       "        },\n",
       "        \"y\": [\n",
       "            0.0,\n",
       "            0.0007426830016616233,\n",
       "            0.0059063610061760845,\n",
       "            0.019737861583632957,\n",
       "            0.04614191667440677,\n",
       "            0.08852549156242112,\n",
       "            0.14965995419101077,\n",
       "            0.23156603517494026,\n",
       "            0.3354257204076558,\n",
       "            0.4615242627168842,\n",
       "            0.6092244304366994,\n",
       "            0.7769739669016543,\n",
       "            0.9623460562577079,\n",
       "            1.1621114193866589,\n",
       "            1.3723395406692394,\n",
       "            1.5885254915624212,\n",
       "            1.8057379072063058,\n",
       "            2.018782919745679,\n",
       "            2.2223782834221852,\n",
       "            2.4113315619223705,\n",
       "            2.58071610088345,\n",
       "            2.7260385831054785,\n",
       "            2.8433922582660616,\n",
       "            2.929590442373764,\n",
       "            2.9822755770101272,\n",
       "            3.0,\n",
       "            2.9822755770101272,\n",
       "            2.929590442373763,\n",
       "            2.8433922582660602,\n",
       "            2.7260385831054785,\n",
       "            2.58071610088345,\n",
       "            2.4113315619223705,\n",
       "            2.222378283422185,\n",
       "            2.0187829197456777,\n",
       "            1.805737907206305,\n",
       "            1.5885254915624212,\n",
       "            1.3723395406692394,\n",
       "            1.1621114193866582,\n",
       "            0.9623460562577069,\n",
       "            0.7769739669016535,\n",
       "            0.6092244304366997,\n",
       "            0.4615242627168842,\n",
       "            0.3354257204076556,\n",
       "            0.2315660351749399,\n",
       "            0.14965995419101052,\n",
       "            0.08852549156242087,\n",
       "            0.046141916674406785,\n",
       "            0.019737861583632936,\n",
       "            0.005906361006176061,\n",
       "            0.0007426830016616148\n",
       "        ],\n",
       "        \"type\": \"scatter\"\n",
       "    }\n",
       "]\n",
       ", {\n",
       "    \"showlegend\": true,\n",
       "    \"xaxis\": {\n",
       "        \"showticklabels\": true,\n",
       "        \"gridwidth\": 0.5,\n",
       "        \"tickvals\": [\n",
       "            0.0,\n",
       "            1.0,\n",
       "            2.0,\n",
       "            3.0\n",
       "        ],\n",
       "        \"range\": [\n",
       "            -0.09236282401553993,\n",
       "            3.1711236245335375\n",
       "        ],\n",
       "        \"domain\": [\n",
       "            0.027143482064741906,\n",
       "            0.9950787401574803\n",
       "        ],\n",
       "        \"mirror\": false,\n",
       "        \"tickangle\": 0,\n",
       "        \"showline\": true,\n",
       "        \"ticktext\": [\n",
       "            \"0\",\n",
       "            \"1\",\n",
       "            \"2\",\n",
       "            \"3\"\n",
       "        ],\n",
       "        \"zeroline\": false,\n",
       "        \"tickfont\": {\n",
       "            \"color\": \"rgba(0, 0, 0, 1.000)\",\n",
       "            \"family\": \"Times\",\n",
       "            \"size\": 22\n",
       "        },\n",
       "        \"zerolinecolor\": \"rgba(0, 0, 0, 1.000)\",\n",
       "        \"anchor\": \"y\",\n",
       "        \"visible\": true,\n",
       "        \"ticks\": \"inside\",\n",
       "        \"tickmode\": \"array\",\n",
       "        \"linecolor\": \"rgba(0, 0, 0, 1.000)\",\n",
       "        \"showgrid\": true,\n",
       "        \"title\": \"\",\n",
       "        \"gridcolor\": \"rgba(0, 0, 0, 0.100)\",\n",
       "        \"titlefont\": {\n",
       "            \"color\": \"rgba(0, 0, 0, 1.000)\",\n",
       "            \"family\": \"Times\",\n",
       "            \"size\": 22\n",
       "        },\n",
       "        \"tickcolor\": \"rgb(0, 0, 0)\",\n",
       "        \"type\": \"-\"\n",
       "    },\n",
       "    \"paper_bgcolor\": \"rgba(255, 255, 255, 1.000)\",\n",
       "    \"annotations\": [],\n",
       "    \"height\": 600,\n",
       "    \"margin\": {\n",
       "        \"l\": 0,\n",
       "        \"b\": 20,\n",
       "        \"r\": 0,\n",
       "        \"t\": 20\n",
       "    },\n",
       "    \"plot_bgcolor\": \"rgba(255, 255, 255, 1.000)\",\n",
       "    \"yaxis\": {\n",
       "        \"showticklabels\": true,\n",
       "        \"gridwidth\": 0.5,\n",
       "        \"tickvals\": [\n",
       "            0.0,\n",
       "            1.0,\n",
       "            2.0,\n",
       "            3.0\n",
       "        ],\n",
       "        \"range\": [\n",
       "            -0.09,\n",
       "            3.09\n",
       "        ],\n",
       "        \"domain\": [\n",
       "            0.04359871682706329,\n",
       "            0.9934383202099738\n",
       "        ],\n",
       "        \"mirror\": false,\n",
       "        \"tickangle\": 0,\n",
       "        \"showline\": true,\n",
       "        \"ticktext\": [\n",
       "            \"0\",\n",
       "            \"1\",\n",
       "            \"2\",\n",
       "            \"3\"\n",
       "        ],\n",
       "        \"zeroline\": false,\n",
       "        \"tickfont\": {\n",
       "            \"color\": \"rgba(0, 0, 0, 1.000)\",\n",
       "            \"family\": \"Times\",\n",
       "            \"size\": 22\n",
       "        },\n",
       "        \"zerolinecolor\": \"rgba(0, 0, 0, 1.000)\",\n",
       "        \"anchor\": \"x\",\n",
       "        \"visible\": true,\n",
       "        \"ticks\": \"inside\",\n",
       "        \"tickmode\": \"array\",\n",
       "        \"linecolor\": \"rgba(0, 0, 0, 1.000)\",\n",
       "        \"showgrid\": true,\n",
       "        \"title\": \"\",\n",
       "        \"gridcolor\": \"rgba(0, 0, 0, 0.100)\",\n",
       "        \"titlefont\": {\n",
       "            \"color\": \"rgba(0, 0, 0, 1.000)\",\n",
       "            \"family\": \"Times\",\n",
       "            \"size\": 22\n",
       "        },\n",
       "        \"tickcolor\": \"rgb(0, 0, 0)\",\n",
       "        \"type\": \"-\"\n",
       "    },\n",
       "    \"legend\": {\n",
       "        \"yanchor\": \"auto\",\n",
       "        \"xanchor\": \"auto\",\n",
       "        \"bordercolor\": \"rgba(0, 0, 0, 1.000)\",\n",
       "        \"bgcolor\": \"rgba(255, 255, 255, 1.000)\",\n",
       "        \"borderwidth\": 1,\n",
       "        \"tracegroupgap\": 0,\n",
       "        \"y\": 1.0,\n",
       "        \"font\": {\n",
       "            \"color\": \"rgba(0, 0, 0, 1.000)\",\n",
       "            \"family\": \"Times\",\n",
       "            \"size\": 22\n",
       "        },\n",
       "        \"title\": {\n",
       "            \"font\": {\n",
       "                \"color\": \"rgba(0, 0, 0, 1.000)\",\n",
       "                \"family\": \"sans-serif\",\n",
       "                \"size\": 15\n",
       "            },\n",
       "            \"text\": \"\"\n",
       "        },\n",
       "        \"traceorder\": \"normal\",\n",
       "        \"x\": 1.0\n",
       "    },\n",
       "    \"width\": 800\n",
       "}\n",
       ");\n",
       "\n",
       "    });\n",
       "    </script>\n"
      ]
     },
     "execution_count": 30,
     "metadata": {},
     "output_type": "execute_result"
    }
   ],
   "source": [
    "p = plot(x, y, style=:auto)"
   ]
  },
  {
   "cell_type": "code",
   "execution_count": 31,
   "id": "27d6c571-d440-4522-b25c-d340b4f665cb",
   "metadata": {},
   "outputs": [],
   "source": [
    "using NumericalIntegration"
   ]
  },
  {
   "cell_type": "code",
   "execution_count": 32,
   "id": "786f4712-0014-40fb-9823-7e929c9b26d5",
   "metadata": {},
   "outputs": [
    {
     "data": {
      "text/plain": [
       "3.999977447931254"
      ]
     },
     "execution_count": 32,
     "metadata": {},
     "output_type": "execute_result"
    }
   ],
   "source": [
    "# integrate using the default Trapezoidal method\n",
    "integrate(x, y)"
   ]
  },
  {
   "cell_type": "code",
   "execution_count": 33,
   "id": "c701de83-99ff-4a13-a3ed-ad5af0a58197",
   "metadata": {},
   "outputs": [
    {
     "data": {
      "text/plain": [
       "3.9999847774873283"
      ]
     },
     "execution_count": 33,
     "metadata": {},
     "output_type": "execute_result"
    }
   ],
   "source": [
    "# integrate using a specific method\n",
    "integrate(x, y, SimpsonEven())"
   ]
  },
  {
   "cell_type": "code",
   "execution_count": 34,
   "id": "2053c5dc-7fc3-4a0d-bee0-ed568711dd0c",
   "metadata": {},
   "outputs": [
    {
     "data": {
      "text/plain": [
       "50-element Vector{Float64}:\n",
       " 2.333207461966172e-5\n",
       " 4.666414923932344e-5\n",
       " 0.0002555500273235052\n",
       " 0.0010611870402751605\n",
       " 0.0031308613142309824\n",
       " 0.007361562718178941\n",
       " 0.014844379183888864\n",
       " 0.026820946859384593\n",
       " 0.04463351819922722\n",
       " 0.06967044032185285\n",
       " 0.10330900260437453\n",
       " 0.14685770961933575\n",
       " 0.20150005968932655\n",
       " 0.2682418596728091\n",
       " 0.3478639848427613\n",
       " 0.4408823031780602\n",
       " 0.5475162327572657\n",
       " 0.667667098091801\n",
       " 0.8009071068774228\n",
       " 0.9464793949674346\n",
       " 1.103309197605843\n",
       " 1.2700258129020716\n",
       " ⋮\n",
       " 2.730021631253042\n",
       " 2.896738246549271\n",
       " 3.053568049187679\n",
       " 3.199140337277691\n",
       " 3.3323803460633132\n",
       " 3.4525312113978486\n",
       " 3.5591651409770533\n",
       " 3.652183459312352\n",
       " 3.7318055844823044\n",
       " 3.798547384465787\n",
       " 3.8531897345357775\n",
       " 3.8967384415507382\n",
       " 3.93037700383326\n",
       " 3.955413925955886\n",
       " 3.9732264972957285\n",
       " 3.9852030649712242\n",
       " 3.992685881436934\n",
       " 3.996916582840882\n",
       " 3.998986257114838\n",
       " 3.9997918941277892\n",
       " 4.000000780005873"
      ]
     },
     "execution_count": 34,
     "metadata": {},
     "output_type": "execute_result"
    }
   ],
   "source": [
    "# compute cumulative integral\n",
    "Y = cumul_integrate(x, y)"
   ]
  },
  {
   "cell_type": "code",
   "execution_count": 53,
   "id": "e7fa574e-2d3c-4b58-a7e5-e888d2395fdf",
   "metadata": {},
   "outputs": [
    {
     "data": {
      "text/plain": [
       "simps (generic function with 1 method)"
      ]
     },
     "execution_count": 53,
     "metadata": {},
     "output_type": "execute_result"
    }
   ],
   "source": [
    "# modified from: https://mmas.github.io/simpson-integration-julia\n",
    "function simps(y::Vector, h::Number)\n",
    "    n = length(y)-1\n",
    "    n % 2 == 0 || error(\"`y` length (number of intervals) must be odd\")\n",
    "    s = sum( y[1:2:n] .+ 4 .* y[2:2:n] .+ y[3:2:n+1] )\n",
    "    return h/3 * s\n",
    "end"
   ]
  },
  {
   "cell_type": "code",
   "execution_count": 55,
   "id": "cfdfd59a-3838-4d25-a3a5-15115be64d47",
   "metadata": {},
   "outputs": [
    {
     "data": {
      "text/plain": [
       "3.999810946802588"
      ]
     },
     "execution_count": 55,
     "metadata": {},
     "output_type": "execute_result"
    }
   ],
   "source": [
    "simps(y[1:end-1], x[2] - x[1])"
   ]
  },
  {
   "cell_type": "markdown",
   "id": "83a1110e-fcd7-406c-a0bf-5411029e84b1",
   "metadata": {},
   "source": [
    "# 数组操作"
   ]
  },
  {
   "cell_type": "code",
   "execution_count": null,
   "id": "46d42232-9c96-4d33-b68d-25b8cfa4d2f6",
   "metadata": {},
   "outputs": [],
   "source": [
    "aa = [1.0, 2.0, 3.0, 4.0, 5.0]"
   ]
  },
  {
   "cell_type": "code",
   "execution_count": null,
   "id": "f875636e-8da3-45db-b227-30b9c5ffde19",
   "metadata": {},
   "outputs": [],
   "source": [
    "aa[2:end-2]"
   ]
  },
  {
   "cell_type": "markdown",
   "id": "743625fc-5be9-4d62-9da4-689a7d1e503e",
   "metadata": {},
   "source": [
    "# 文件操作"
   ]
  },
  {
   "cell_type": "markdown",
   "id": "4df7efd8-db8b-4606-a289-07c9fb2f5e94",
   "metadata": {},
   "source": [
    "## JSON\n",
    "\n",
    "ref: https://gist.github.com/silgon/0ba43e00e0749cdf4f8d244e67cd9d6a"
   ]
  },
  {
   "cell_type": "code",
   "execution_count": 59,
   "id": "367092e6-d0e2-4141-ba58-0fc3979a8d60",
   "metadata": {},
   "outputs": [],
   "source": [
    "using JSON"
   ]
  },
  {
   "cell_type": "code",
   "execution_count": 79,
   "id": "0be8690d-f31e-47df-9d6e-d0caffff7879",
   "metadata": {},
   "outputs": [
    {
     "data": {
      "text/plain": [
       "Dict{String, Any} with 2 entries:\n",
       "  \"an_array\" => Any[\"string\", 9]\n",
       "  \"a_number\" => 5.0"
      ]
     },
     "execution_count": 79,
     "metadata": {},
     "output_type": "execute_result"
    }
   ],
   "source": [
    "# JSON.parse - string or stream to Julia data structures\n",
    "json_str = \"{\\\"a_number\\\" : 5.0, \\\"an_array\\\" : [\\\"string\\\", 9]}\"\n",
    "json_dict = JSON.parse(json_str)    # json string to dict"
   ]
  },
  {
   "cell_type": "code",
   "execution_count": 80,
   "id": "3e53282c-29ba-4ddc-bb6a-396c8eeae8bb",
   "metadata": {},
   "outputs": [
    {
     "data": {
      "text/plain": [
       "\"{\\\"an_array\\\":[\\\"string\\\",9],\\\"a_number\\\":5.0}\""
      ]
     },
     "execution_count": 80,
     "metadata": {},
     "output_type": "execute_result"
    }
   ],
   "source": [
    "# dict to json string\n",
    "JSON.json(json_dict)"
   ]
  },
  {
   "cell_type": "code",
   "execution_count": 81,
   "id": "a60a5002-d23e-4087-bc48-7296e733c044",
   "metadata": {},
   "outputs": [
    {
     "data": {
      "text/plain": [
       "\"[2,3]\""
      ]
     },
     "execution_count": 81,
     "metadata": {},
     "output_type": "execute_result"
    }
   ],
   "source": [
    "# JSON.json - Julia data structures to a string\n",
    "JSON.json([2,3])"
   ]
  },
  {
   "cell_type": "code",
   "execution_count": 82,
   "id": "501c20a0-b229-41f2-9932-ee0371f8daa4",
   "metadata": {},
   "outputs": [
    {
     "data": {
      "text/plain": [
       "46"
      ]
     },
     "execution_count": 82,
     "metadata": {},
     "output_type": "execute_result"
    }
   ],
   "source": [
    "# write json string to file\n",
    "open(\"write_read.json\", \"w\") do f\n",
    "    write(f, json_str)\n",
    "end"
   ]
  },
  {
   "cell_type": "code",
   "execution_count": 83,
   "id": "54a179e3-aa30-48ec-8acf-47f84b25c46f",
   "metadata": {},
   "outputs": [
    {
     "data": {
      "text/plain": [
       "Dict{String, Any} with 2 entries:\n",
       "  \"an_array\" => Any[\"string\", 9]\n",
       "  \"a_number\" => 5.0"
      ]
     },
     "execution_count": 83,
     "metadata": {},
     "output_type": "execute_result"
    }
   ],
   "source": [
    "# read json string from file\n",
    "dict2 = Dict()\n",
    "open(\"write_read.json\", \"r\") do f\n",
    "    global dict2\n",
    "    dict2=JSON.parse(f)  # parse and transform data\n",
    "end"
   ]
  },
  {
   "cell_type": "code",
   "execution_count": 84,
   "id": "f88de684-17f7-4d3f-8e90-53c2b227ce29",
   "metadata": {},
   "outputs": [
    {
     "data": {
      "text/plain": [
       "Dict{String, Any} with 2 entries:\n",
       "  \"an_array\" => Any[\"string\", 9]\n",
       "  \"a_number\" => 5.0"
      ]
     },
     "execution_count": 84,
     "metadata": {},
     "output_type": "execute_result"
    }
   ],
   "source": [
    "# a simple way in Julia v1.6\n",
    "\n",
    "dict3 = \"write_read.json\" |> open |> JSON.parse"
   ]
  },
  {
   "cell_type": "code",
   "execution_count": 85,
   "id": "d0046a0a-c0d1-47f1-b346-242e8fcbd477",
   "metadata": {},
   "outputs": [
    {
     "data": {
      "text/plain": [
       "Dict{String, Any} with 2 entries:\n",
       "  \"an_array\" => Any[\"string\", 9]\n",
       "  \"a_number\" => 5.0"
      ]
     },
     "execution_count": 85,
     "metadata": {},
     "output_type": "execute_result"
    }
   ],
   "source": [
    "# another way in Julia v1.6\n",
    "\n",
    "dict4 = JSON.parse(open(\"write_read.json\"))"
   ]
  },
  {
   "cell_type": "code",
   "execution_count": null,
   "id": "0df46427-dde8-4873-8f98-f76fd53e0477",
   "metadata": {},
   "outputs": [],
   "source": []
  }
 ],
 "metadata": {
  "kernelspec": {
   "display_name": "Julia 1.6.2",
   "language": "julia",
   "name": "julia-1.6"
  },
  "language_info": {
   "file_extension": ".jl",
   "mimetype": "application/julia",
   "name": "julia",
   "version": "1.6.2"
  }
 },
 "nbformat": 4,
 "nbformat_minor": 5
}
